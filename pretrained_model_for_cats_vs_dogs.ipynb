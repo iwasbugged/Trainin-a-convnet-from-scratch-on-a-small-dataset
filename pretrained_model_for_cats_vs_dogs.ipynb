{
 "cells": [
  {
   "cell_type": "markdown",
   "metadata": {},
   "source": [
    " **Using a Pretrained Model**\n",
    " \n",
    " A common and highly effective approach to deep learning on small image datasets is to use a **pre-trained** network.\n",
    "A **pre-trained** network is a saved network that was previously trained on a large dataset, typically on a large scale **image-classification** task.\n",
    "\n",
    "We'll use the **VGG16** Architecture, developed by **Karen Simonyan and Andrew Zisserman** in 2014.\n",
    "\n",
    "There are two ways to use a pre-trained network **\"Feature extraction\"** and **\"Fine-tunnig\"**"
   ]
  },
  {
   "cell_type": "markdown",
   "metadata": {},
   "source": [
    "**Feature Extraction:-**\n",
    "\n",
    "Feature extraction consists of using the representations learned by a previous network to extract interesting features from new samples. These features are then run through a new classifier, which is trained from scratch.\n",
    "    Feature extraction consists of taking the **convolutional base** of the previously trained network, running the new data through it and training a new classifier on the top of the output.\n",
    "    we can import the previously trained model from the **keras.applications** module. \n",
    "   Here is the list of image-classification models that are available as part of **keras.applications**\n",
    "   \n",
    "   1. Xception\n",
    "   2. Inception V3\n",
    "   3. ResNet 50\n",
    "   4. VGG 16\n",
    "   5. VGG 19\n",
    "   6. Mobile Net\n",
    "   \n",
    "   "
   ]
  },
  {
   "cell_type": "code",
   "execution_count": 4,
   "metadata": {
    "scrolled": true
   },
   "outputs": [
    {
     "name": "stdout",
     "output_type": "stream",
     "text": [
      "Downloading data from https://storage.googleapis.com/tensorflow/keras-applications/vgg16/vgg16_weights_tf_dim_ordering_tf_kernels_notop.h5\n",
      "58892288/58889256 [==============================] - 141s 2us/step\n"
     ]
    }
   ],
   "source": [
    "# Instantiating the VGG 16 Convolutional base\n",
    "\n",
    "from tensorflow.keras.applications import VGG16\n",
    "\n",
    "conv_base = VGG16(weights='imagenet',\n",
    "                  include_top=False,\n",
    "                  input_shape=(150, 150, 3))"
   ]
  },
  {
   "cell_type": "markdown",
   "metadata": {},
   "source": [
    "Three arguments to the constructor:-\n",
    "\n",
    "**weights:-** specifies the weight checkpoint from which to initialize the model.\n",
    "**include_top:-** Refers to including (or not) the densely connected classifier on top of the network, we intend to use our own densely connected classifier (with only two classes cats and dogs), we don't need to include it\n",
    "**input_shape:-** is the shape of image tensors that we shall feed to the network.\n"
   ]
  },
  {
   "cell_type": "code",
   "execution_count": 6,
   "metadata": {},
   "outputs": [
    {
     "name": "stdout",
     "output_type": "stream",
     "text": [
      "Model: \"vgg16\"\n",
      "_________________________________________________________________\n",
      "Layer (type)                 Output Shape              Param #   \n",
      "=================================================================\n",
      "input_2 (InputLayer)         [(None, 150, 150, 3)]     0         \n",
      "_________________________________________________________________\n",
      "block1_conv1 (Conv2D)        (None, 150, 150, 64)      1792      \n",
      "_________________________________________________________________\n",
      "block1_conv2 (Conv2D)        (None, 150, 150, 64)      36928     \n",
      "_________________________________________________________________\n",
      "block1_pool (MaxPooling2D)   (None, 75, 75, 64)        0         \n",
      "_________________________________________________________________\n",
      "block2_conv1 (Conv2D)        (None, 75, 75, 128)       73856     \n",
      "_________________________________________________________________\n",
      "block2_conv2 (Conv2D)        (None, 75, 75, 128)       147584    \n",
      "_________________________________________________________________\n",
      "block2_pool (MaxPooling2D)   (None, 37, 37, 128)       0         \n",
      "_________________________________________________________________\n",
      "block3_conv1 (Conv2D)        (None, 37, 37, 256)       295168    \n",
      "_________________________________________________________________\n",
      "block3_conv2 (Conv2D)        (None, 37, 37, 256)       590080    \n",
      "_________________________________________________________________\n",
      "block3_conv3 (Conv2D)        (None, 37, 37, 256)       590080    \n",
      "_________________________________________________________________\n",
      "block3_pool (MaxPooling2D)   (None, 18, 18, 256)       0         \n",
      "_________________________________________________________________\n",
      "block4_conv1 (Conv2D)        (None, 18, 18, 512)       1180160   \n",
      "_________________________________________________________________\n",
      "block4_conv2 (Conv2D)        (None, 18, 18, 512)       2359808   \n",
      "_________________________________________________________________\n",
      "block4_conv3 (Conv2D)        (None, 18, 18, 512)       2359808   \n",
      "_________________________________________________________________\n",
      "block4_pool (MaxPooling2D)   (None, 9, 9, 512)         0         \n",
      "_________________________________________________________________\n",
      "block5_conv1 (Conv2D)        (None, 9, 9, 512)         2359808   \n",
      "_________________________________________________________________\n",
      "block5_conv2 (Conv2D)        (None, 9, 9, 512)         2359808   \n",
      "_________________________________________________________________\n",
      "block5_conv3 (Conv2D)        (None, 9, 9, 512)         2359808   \n",
      "_________________________________________________________________\n",
      "block5_pool (MaxPooling2D)   (None, 4, 4, 512)         0         \n",
      "=================================================================\n",
      "Total params: 14,714,688\n",
      "Trainable params: 14,714,688\n",
      "Non-trainable params: 0\n",
      "_________________________________________________________________\n"
     ]
    }
   ],
   "source": [
    "conv_base.summary()"
   ]
  },
  {
   "cell_type": "markdown",
   "metadata": {},
   "source": [
    "The final feature map has shape **(4,4,512)** that's the feature on top of which we'll stick a densely connected classifier\n",
    "\n",
    " At this point, there are two ways we could proceed:-\n",
    " \n",
    " 1. Running the convolutional base over our dataset recording it's output to a Numpy array on disk and then using this data as input to a standalone, denselly connected classifier similar to those we saw in part 1.\n",
    "     This solution is fast and cheap to run because it only requires running the convolutions base once for every input image , But for the same reason this technique don't allow us to use data augmentation.\n",
    "     \n",
    "2. Extending the model we have **(conv_base)** by adding Dense layers on top and running the whole thing end to end on the input data. This will allow us to use data augmentation, because every image go through the convolutional base every time it's seen by the model. But for the same reason, this technique is for more expensive than the first."
   ]
  },
  {
   "cell_type": "markdown",
   "metadata": {},
   "source": [
    "Let's walk through the code required to setup the first one:-\n",
    "Record the output of **\"conv_base\"** on our data and using these output as inputs to a **New model**.\n",
    "\n",
    "We'll start by running instance of the previously introduced **\"ImageDataGenerator\"** to extract image as numpy arrays as well as their labels. we'll  extract features from these images by calling the **\"predict\"** method of the \"**conv_base**\" model"
   ]
  },
  {
   "cell_type": "code",
   "execution_count": 7,
   "metadata": {},
   "outputs": [],
   "source": [
    "# Extracting feature using the pretrained convolutional base\n",
    "\n",
    "import os\n",
    "import numpy as np\n",
    "from tensorflow.keras.preprocessing.image import ImageDataGenerator\n",
    "\n",
    "base_dir = r\"C:\\Users\\Raju\\Desktop\\Project\\cats_dogs\"\n",
    "train_dir = os.path.join(base_dir, 'train')              # Training data Path\n",
    "validation_dir = os.path.join(base_dir, 'validation')    # validation data path\n",
    "test_dir = os.path.join(base_dir, 'test')                # Testing data path\n",
    "\n",
    "datagen = ImageDataGenerator(rescale=1./255)            # image data generator"
   ]
  },
  {
   "cell_type": "code",
   "execution_count": 11,
   "metadata": {},
   "outputs": [],
   "source": [
    "batch_size = 20\n",
    "\n",
    "\n",
    "def extract_features(directory, sample_count):\n",
    "\n",
    "    # creating a blank array of the shape (sample,4,4,512)\n",
    "    features = np.zeros(shape=(sample_count, 4, 4, 512))\n",
    "    # Creating a blank array of the shape of sample size\n",
    "    labels = np.zeros(shape=(sample_count))\n",
    "\n",
    "    generator = datagen.flow_from_directory(directory,\n",
    "                                            target_size=(150, 150),\n",
    "                                            batch_size=batch_size,\n",
    "                                            class_mode='binary')\n",
    "\n",
    "    i = 0\n",
    "    for inputs_batch, labels_batch in generator:\n",
    "        features_batch = conv_base.predict(inputs_batch)\n",
    "        features[i*batch_size:(i+1)*batch_size] = features_batch\n",
    "        labels[i*batch_size:(i+1)*batch_size] = labels_batch\n",
    "\n",
    "        i += 1\n",
    "        if i*batch_size >= sample_count:\n",
    "            break\n",
    "\n",
    "    return features, labels"
   ]
  },
  {
   "cell_type": "code",
   "execution_count": 12,
   "metadata": {
    "scrolled": true
   },
   "outputs": [
    {
     "name": "stdout",
     "output_type": "stream",
     "text": [
      "Found 2000 images belonging to 2 classes.\n",
      "Found 1000 images belonging to 2 classes.\n",
      "Found 1000 images belonging to 2 classes.\n"
     ]
    }
   ],
   "source": [
    "train_features, train_labels = extract_features(train_dir, 2000)\n",
    "validation_features, validation_labels = extract_features(validation_dir, 1000)\n",
    "test_features, test_labels = extract_features(test_dir, 1000)"
   ]
  },
  {
   "cell_type": "code",
   "execution_count": 13,
   "metadata": {},
   "outputs": [
    {
     "data": {
      "text/plain": [
       "(2000, 4, 4, 512)"
      ]
     },
     "execution_count": 13,
     "metadata": {},
     "output_type": "execute_result"
    }
   ],
   "source": [
    "train_features.shape"
   ]
  },
  {
   "cell_type": "markdown",
   "metadata": {},
   "source": [
    "The extracted feature are currently of the shape (samples,4,4,512). we will feed them to a densely connected classifier, so first we must flatten them to (samples,8192)\n"
   ]
  },
  {
   "cell_type": "code",
   "execution_count": 14,
   "metadata": {},
   "outputs": [],
   "source": [
    "train_features=np.reshape(train_features,(2000, 4*4*512))\n",
    "validation_features=np.reshape(validation_features,(1000, 4*4*512))\n",
    "test_features=np.reshape(test_features,(1000,4*4*512))"
   ]
  },
  {
   "cell_type": "markdown",
   "metadata": {},
   "source": [
    "At this point, we can define our densely connected classifier (note the use of Dropout for regularization) and train it on the data and labels that we just recorded"
   ]
  },
  {
   "cell_type": "code",
   "execution_count": 16,
   "metadata": {},
   "outputs": [
    {
     "name": "stdout",
     "output_type": "stream",
     "text": [
      "Epoch 1/30\n",
      "100/100 [==============================] - 7s 72ms/step - loss: 0.5939 - acc: 0.6810 - val_loss: 0.4209 - val_acc: 0.8440\n",
      "Epoch 2/30\n",
      "100/100 [==============================] - 7s 66ms/step - loss: 0.4217 - acc: 0.8015 - val_loss: 0.3667 - val_acc: 0.8430\n",
      "Epoch 3/30\n",
      "100/100 [==============================] - 6s 60ms/step - loss: 0.3457 - acc: 0.8435 - val_loss: 0.3622 - val_acc: 0.8300\n",
      "Epoch 4/30\n",
      "100/100 [==============================] - 7s 67ms/step - loss: 0.3179 - acc: 0.8655 - val_loss: 0.2936 - val_acc: 0.8880\n",
      "Epoch 5/30\n",
      "100/100 [==============================] - 6s 63ms/step - loss: 0.2952 - acc: 0.8775 - val_loss: 0.2797 - val_acc: 0.8950\n",
      "Epoch 6/30\n",
      "100/100 [==============================] - 6s 62ms/step - loss: 0.2605 - acc: 0.8960 - val_loss: 0.2715 - val_acc: 0.8960\n",
      "Epoch 7/30\n",
      "100/100 [==============================] - 6s 60ms/step - loss: 0.2456 - acc: 0.8960 - val_loss: 0.2592 - val_acc: 0.9010\n",
      "Epoch 8/30\n",
      "100/100 [==============================] - 6s 64ms/step - loss: 0.2280 - acc: 0.9130 - val_loss: 0.2532 - val_acc: 0.9020\n",
      "Epoch 9/30\n",
      "100/100 [==============================] - 7s 66ms/step - loss: 0.2208 - acc: 0.9155 - val_loss: 0.2479 - val_acc: 0.9090\n",
      "Epoch 10/30\n",
      "100/100 [==============================] - 6s 63ms/step - loss: 0.2049 - acc: 0.9265 - val_loss: 0.2463 - val_acc: 0.9070\n",
      "Epoch 11/30\n",
      "100/100 [==============================] - 6s 63ms/step - loss: 0.1959 - acc: 0.9255 - val_loss: 0.2474 - val_acc: 0.9030\n",
      "Epoch 12/30\n",
      "100/100 [==============================] - 7s 67ms/step - loss: 0.1770 - acc: 0.9350 - val_loss: 0.2395 - val_acc: 0.9090\n",
      "Epoch 13/30\n",
      "100/100 [==============================] - 6s 63ms/step - loss: 0.1728 - acc: 0.9390 - val_loss: 0.2354 - val_acc: 0.9100\n",
      "Epoch 14/30\n",
      "100/100 [==============================] - 7s 70ms/step - loss: 0.1676 - acc: 0.9470 - val_loss: 0.2360 - val_acc: 0.9110\n",
      "Epoch 15/30\n",
      "100/100 [==============================] - 7s 65ms/step - loss: 0.1547 - acc: 0.9470 - val_loss: 0.2352 - val_acc: 0.9070\n",
      "Epoch 16/30\n",
      "100/100 [==============================] - 7s 66ms/step - loss: 0.1543 - acc: 0.9385 - val_loss: 0.2327 - val_acc: 0.9080\n",
      "Epoch 17/30\n",
      "100/100 [==============================] - 6s 65ms/step - loss: 0.1461 - acc: 0.9530 - val_loss: 0.2322 - val_acc: 0.9070\n",
      "Epoch 18/30\n",
      "100/100 [==============================] - 6s 62ms/step - loss: 0.1356 - acc: 0.9535 - val_loss: 0.2376 - val_acc: 0.9120\n",
      "Epoch 19/30\n",
      "100/100 [==============================] - 7s 71ms/step - loss: 0.1330 - acc: 0.9525 - val_loss: 0.2345 - val_acc: 0.9090\n",
      "Epoch 20/30\n",
      "100/100 [==============================] - 7s 65ms/step - loss: 0.1294 - acc: 0.9535 - val_loss: 0.2327 - val_acc: 0.9070\n",
      "Epoch 21/30\n",
      "100/100 [==============================] - 7s 73ms/step - loss: 0.1241 - acc: 0.9595 - val_loss: 0.2421 - val_acc: 0.9050\n",
      "Epoch 22/30\n",
      "100/100 [==============================] - 7s 70ms/step - loss: 0.1130 - acc: 0.9655 - val_loss: 0.2343 - val_acc: 0.9060\n",
      "Epoch 23/30\n",
      "100/100 [==============================] - 7s 72ms/step - loss: 0.1091 - acc: 0.9635 - val_loss: 0.2395 - val_acc: 0.9060\n",
      "Epoch 24/30\n",
      "100/100 [==============================] - 7s 68ms/step - loss: 0.1043 - acc: 0.9645 - val_loss: 0.2476 - val_acc: 0.9030\n",
      "Epoch 25/30\n",
      "100/100 [==============================] - 7s 66ms/step - loss: 0.1032 - acc: 0.9670 - val_loss: 0.2386 - val_acc: 0.9060\n",
      "Epoch 26/30\n",
      "100/100 [==============================] - 7s 68ms/step - loss: 0.1005 - acc: 0.9675 - val_loss: 0.2391 - val_acc: 0.9070\n",
      "Epoch 27/30\n",
      "100/100 [==============================] - 6s 64ms/step - loss: 0.0920 - acc: 0.9720 - val_loss: 0.2328 - val_acc: 0.9050o\n",
      "Epoch 28/30\n",
      "100/100 [==============================] - 7s 70ms/step - loss: 0.0926 - acc: 0.9715 - val_loss: 0.2358 - val_acc: 0.9060\n",
      "Epoch 29/30\n",
      "100/100 [==============================] - 7s 68ms/step - loss: 0.0876 - acc: 0.9730 - val_loss: 0.2365 - val_acc: 0.9080\n",
      "Epoch 30/30\n",
      "100/100 [==============================] - 7s 71ms/step - loss: 0.0875 - acc: 0.9725 - val_loss: 0.2340 - val_acc: 0.9030\n"
     ]
    }
   ],
   "source": [
    "from tensorflow.keras import models\n",
    "from tensorflow.keras import layers\n",
    "from tensorflow.keras import optimizers\n",
    "\n",
    "model=models.Sequential()\n",
    "\n",
    "model.add(layers.Dense(256, activation='relu',input_dim=4*4*512))\n",
    "model.add(layers.Dropout(0.5))\n",
    "model.add(layers.Dense(1,activation='sigmoid'))\n",
    "\n",
    "model.compile(optimizer=optimizers.RMSprop(lr=2e-5),\n",
    "             loss='binary_crossentropy',\n",
    "             metrics=['acc'])\n",
    "\n",
    "hist=model.fit(train_features,train_labels, batch_size=20,\n",
    "              epochs=30,\n",
    "              validation_data=(validation_features,validation_labels))"
   ]
  },
  {
   "cell_type": "code",
   "execution_count": 20,
   "metadata": {},
   "outputs": [],
   "source": [
    "model.save('cats_and_dogs_small_3.h5')"
   ]
  },
  {
   "cell_type": "code",
   "execution_count": 17,
   "metadata": {},
   "outputs": [
    {
     "data": {
      "text/plain": [
       "dict_keys(['loss', 'acc', 'val_loss', 'val_acc'])"
      ]
     },
     "execution_count": 17,
     "metadata": {},
     "output_type": "execute_result"
    }
   ],
   "source": [
    "# let's plot the loss and accuracy score graph\n",
    "\n",
    "hist.history.keys()"
   ]
  },
  {
   "cell_type": "code",
   "execution_count": 19,
   "metadata": {
    "scrolled": true
   },
   "outputs": [
    {
     "data": {
      "image/png": "[encoded data removed]",
      "text/plain": [
       "<Figure size 432x288 with 1 Axes>"
      ]
     },
     "metadata": {
      "needs_background": "light"
     },
     "output_type": "display_data"
    },
    {
     "data": {
      "image/png": "[encoded data removed]",
      "text/plain": [
       "<Figure size 432x288 with 1 Axes>"
      ]
     },
     "metadata": {
      "needs_background": "light"
     },
     "output_type": "display_data"
    }
   ],
   "source": [
    "import matplotlib.pyplot as plt\n",
    "%matplotlib inline\n",
    "\n",
    "train_acc=hist.history['acc']\n",
    "train_loss=hist.history['loss']\n",
    "val_loss=hist.history['val_loss']\n",
    "val_acc=hist.history['val_acc']\n",
    "\n",
    "epochs=range(1,len(train_acc)+1)\n",
    "\n",
    "plt.plot(epochs,train_loss,'bo',label='Train loss')\n",
    "plt.plot(epochs,val_loss,'b',label='Validation loss')\n",
    "plt.title('Training vs Validation loss')\n",
    "plt.legend()\n",
    "\n",
    "plt.figure()\n",
    "\n",
    "plt.plot(epochs,train_acc,'bo', label='Train accuracy')\n",
    "plt.plot(epochs, val_acc,'b',label='Validation accuracy')\n",
    "plt.title('Training vs Validation accuracy')\n",
    "plt.legend()\n",
    "plt.show()"
   ]
  },
  {
   "cell_type": "markdown",
   "metadata": {},
   "source": [
    "We have achieved 90% accuracy better than previous accuracy"
   ]
  },
  {
   "cell_type": "markdown",
   "metadata": {},
   "source": [
    "**FEATURE EXTRACTION WITH DATA AUGMENTATION**\n",
    "\n",
    "Now let's review the Second technique:\n",
    "    Extending the **\"conv_base\"** model and running it end to end on the inputs.\n",
    "    \n",
    "     Note:- you should only attempt it if you have access to a GPU"
   ]
  },
  {
   "cell_type": "code",
   "execution_count": 21,
   "metadata": {},
   "outputs": [],
   "source": [
    "from tensorflow.keras import models\n",
    "from tensorflow.keras import layers\n",
    "from tensorflow.keras import optimizers\n",
    "\n",
    "model=models.Sequential()\n",
    "model.add(conv_base)\n",
    "model.add(layers.Flatten())\n",
    "model.add(layers.Dense(256, activation='relu'))\n",
    "model.add(layers.Dense(1,activation='sigmoid'))"
   ]
  },
  {
   "cell_type": "code",
   "execution_count": 22,
   "metadata": {},
   "outputs": [
    {
     "name": "stdout",
     "output_type": "stream",
     "text": [
      "Model: \"sequential_2\"\n",
      "_________________________________________________________________\n",
      "Layer (type)                 Output Shape              Param #   \n",
      "=================================================================\n",
      "vgg16 (Model)                (None, 4, 4, 512)         14714688  \n",
      "_________________________________________________________________\n",
      "flatten (Flatten)            (None, 8192)              0         \n",
      "_________________________________________________________________\n",
      "dense_4 (Dense)              (None, 256)               2097408   \n",
      "_________________________________________________________________\n",
      "dense_5 (Dense)              (None, 1)                 257       \n",
      "=================================================================\n",
      "Total params: 16,812,353\n",
      "Trainable params: 16,812,353\n",
      "Non-trainable params: 0\n",
      "_________________________________________________________________\n"
     ]
    }
   ],
   "source": [
    "model.summary()"
   ]
  },
  {
   "cell_type": "markdown",
   "metadata": {},
   "source": [
    "Before we compile and train the model, it's very important to **freeze** the **convolutional base** freezing a layer or set of layers means preventing their weights from being updated during training"
   ]
  },
  {
   "cell_type": "code",
   "execution_count": 23,
   "metadata": {},
   "outputs": [
    {
     "name": "stdout",
     "output_type": "stream",
     "text": [
      "Before freezing the convolutional base number of trainable weights :- 30\n",
      "After freezing the convolutional base number of trainable weights:- 4\n"
     ]
    }
   ],
   "source": [
    "print('Before freezing the convolutional base number of trainable weights :-',len(model.trainable_weights))\n",
    "\n",
    "conv_base.trainable=False\n",
    "\n",
    "print('After freezing the convolutional base number of trainable weights:-', len(model.trainable_weights))"
   ]
  },
  {
   "cell_type": "code",
   "execution_count": 25,
   "metadata": {},
   "outputs": [
    {
     "name": "stdout",
     "output_type": "stream",
     "text": [
      "Found 2000 images belonging to 2 classes.\n",
      "Found 1000 images belonging to 2 classes.\n"
     ]
    }
   ],
   "source": [
    "# Training the model end to end with frozen convolutional base\n",
    "\n",
    "from tensorflow.keras.preprocessing.image import ImageDataGenerator\n",
    "from tensorflow.keras import optimizers\n",
    "\n",
    "train_datagen=ImageDataGenerator(rescale=1./255,\n",
    "                                rotation_range=40,\n",
    "                                width_shift_range=0.2,\n",
    "                                height_shift_range=0.2,\n",
    "                                shear_range=0.2,\n",
    "                                zoom_range=0.2,\n",
    "                                horizontal_flip=True,\n",
    "                                fill_mode='nearest')\n",
    "\n",
    "test_datagen=ImageDataGenerator(rescale=1./255)\n",
    "\n",
    "train_generator= train_datagen.flow_from_directory(train_dir,\n",
    "                                                  target_size=(150,150),\n",
    "                                                  batch_size=20,\n",
    "                                                  class_mode='binary')\n",
    "\n",
    "validation_generator=test_datagen.flow_from_directory(validation_dir,\n",
    "                                 target_size=(150,150),\n",
    "                                 batch_size=20,\n",
    "                                 class_mode='binary')\n",
    "\n",
    "model.compile(loss='binary_crossentropy',\n",
    "             optimizer=optimizers.RMSprop(lr=2e-5),\n",
    "             metrics=['acc'])"
   ]
  },
  {
   "cell_type": "code",
   "execution_count": null,
   "metadata": {},
   "outputs": [],
   "source": [
    "hist=model.fit_generator(train_generator,\n",
    "                        steps_per_epoch=100,\n",
    "                        epochs=30,\n",
    "                        validation_data=validation_dir,\n",
    "                        validation_steps=50)"
   ]
  },
  {
   "cell_type": "code",
   "execution_count": null,
   "metadata": {},
   "outputs": [],
   "source": [
    "model.save('cats_and_dogs_small_4.h5')"
   ]
  },
  {
   "cell_type": "markdown",
   "metadata": {},
   "source": [
    "**Fine Tunning:-**\n",
    "\n",
    "Fine-tunning consists of unfreezing a few of the top layers of a frozen model base used for feature extraction and jointly training both the newly added part of the model (in this case, the fully connected classifier) and these top layers.\n",
    "This is called \"fine-tuning\" because it slightly adjusts the more abstract representations of the model being reuse in order to make them more relevant for the platform at hand.\n",
    "\n",
    "The steps for fine-tuning a network are as follows:-\n",
    "1. Add your custom network on top of an already-trained base network.\n",
    "2. Freeze the base network.\n",
    "3. Train the part you added.\n",
    "4. Unfreeze some layers in the base network.\n",
    "5. Jointly train both these layers and part you added."
   ]
  },
  {
   "cell_type": "code",
   "execution_count": 32,
   "metadata": {},
   "outputs": [
    {
     "name": "stdout",
     "output_type": "stream",
     "text": [
      "Model: \"vgg16\"\n",
      "_________________________________________________________________\n",
      "Layer (type)                 Output Shape              Param #   \n",
      "=================================================================\n",
      "input_2 (InputLayer)         [(None, 150, 150, 3)]     0         \n",
      "_________________________________________________________________\n",
      "block1_conv1 (Conv2D)        (None, 150, 150, 64)      1792      \n",
      "_________________________________________________________________\n",
      "block1_conv2 (Conv2D)        (None, 150, 150, 64)      36928     \n",
      "_________________________________________________________________\n",
      "block1_pool (MaxPooling2D)   (None, 75, 75, 64)        0         \n",
      "_________________________________________________________________\n",
      "block2_conv1 (Conv2D)        (None, 75, 75, 128)       73856     \n",
      "_________________________________________________________________\n",
      "block2_conv2 (Conv2D)        (None, 75, 75, 128)       147584    \n",
      "_________________________________________________________________\n",
      "block2_pool (MaxPooling2D)   (None, 37, 37, 128)       0         \n",
      "_________________________________________________________________\n",
      "block3_conv1 (Conv2D)        (None, 37, 37, 256)       295168    \n",
      "_________________________________________________________________\n",
      "block3_conv2 (Conv2D)        (None, 37, 37, 256)       590080    \n",
      "_________________________________________________________________\n",
      "block3_conv3 (Conv2D)        (None, 37, 37, 256)       590080    \n",
      "_________________________________________________________________\n",
      "block3_pool (MaxPooling2D)   (None, 18, 18, 256)       0         \n",
      "_________________________________________________________________\n",
      "block4_conv1 (Conv2D)        (None, 18, 18, 512)       1180160   \n",
      "_________________________________________________________________\n",
      "block4_conv2 (Conv2D)        (None, 18, 18, 512)       2359808   \n",
      "_________________________________________________________________\n",
      "block4_conv3 (Conv2D)        (None, 18, 18, 512)       2359808   \n",
      "_________________________________________________________________\n",
      "block4_pool (MaxPooling2D)   (None, 9, 9, 512)         0         \n",
      "_________________________________________________________________\n",
      "block5_conv1 (Conv2D)        (None, 9, 9, 512)         2359808   \n",
      "_________________________________________________________________\n",
      "block5_conv2 (Conv2D)        (None, 9, 9, 512)         2359808   \n",
      "_________________________________________________________________\n",
      "block5_conv3 (Conv2D)        (None, 9, 9, 512)         2359808   \n",
      "_________________________________________________________________\n",
      "block5_pool (MaxPooling2D)   (None, 4, 4, 512)         0         \n",
      "=================================================================\n",
      "Total params: 14,714,688\n",
      "Trainable params: 0\n",
      "Non-trainable params: 14,714,688\n",
      "_________________________________________________________________\n"
     ]
    }
   ],
   "source": [
    "# freezing all layers up to a specific one\n",
    "\n",
    "conv_base.summary()"
   ]
  },
  {
   "cell_type": "code",
   "execution_count": 35,
   "metadata": {},
   "outputs": [],
   "source": [
    "conv_base.trainable=True\n",
    "set_trainable =False\n",
    "\n",
    "for layer in conv_base.layers:\n",
    "    if layer.name=='block5_conv1':\n",
    "        set_trainable=True\n",
    "    if set_trainable:\n",
    "        layer.trainable=True\n",
    "        \n",
    "    else:\n",
    "        layer.trainable=False"
   ]
  },
  {
   "cell_type": "code",
   "execution_count": 36,
   "metadata": {},
   "outputs": [],
   "source": [
    "# fine-tuning the model,\n",
    "model.compile(loss='binary_crossentropy',\n",
    "             optimizer=optimizers.RMSprop(lr=2e-5),\n",
    "             metrics=['acc'])"
   ]
  },
  {
   "cell_type": "code",
   "execution_count": null,
   "metadata": {},
   "outputs": [],
   "source": [
    "hist=model.fit_generator()"
   ]
  },
  {
   "cell_type": "markdown",
   "metadata": {},
   "source": [
    "**Visualization what convnet learn**\n",
    "\n",
    "It’s often said that deep-learning models are **“black boxes”**: learning representations\n",
    "that are difficult to extract and present in a human-readable form. Although this is\n",
    "partially true for certain types of deep-learning models, it’s definitely not true for\n",
    "convnets. The representations learned by **convnets** are highly amenable to visualization, in large part because they’re **representations of visual concepts**\n",
    "\n",
    "\n"
   ]
  }
 ],
 "metadata": {
  "kernelspec": {
   "display_name": "Python 3",
   "language": "python",
   "name": "python3"
  },
  "language_info": {
   "codemirror_mode": {
    "name": "ipython",
    "version": 3
   },
   "file_extension": ".py",
   "mimetype": "text/x-python",
   "name": "python",
   "nbconvert_exporter": "python",
   "pygments_lexer": "ipython3",
   "version": "3.7.4"
  },
  "toc": {
   "base_numbering": 1,
   "nav_menu": {},
   "number_sections": true,
   "sideBar": true,
   "skip_h1_title": false,
   "title_cell": "Table of Contents",
   "title_sidebar": "Contents",
   "toc_cell": false,
   "toc_position": {},
   "toc_section_display": true,
   "toc_window_display": false
  },
  "varInspector": {
   "cols": {
    "lenName": 16,
    "lenType": 16,
    "lenVar": 40
   },
   "kernels_config": {
    "python": {
     "delete_cmd_postfix": "",
     "delete_cmd_prefix": "del ",
     "library": "var_list.py",
     "varRefreshCmd": "print(var_dic_list())"
    },
    "r": {
     "delete_cmd_postfix": ") ",
     "delete_cmd_prefix": "rm(",
     "library": "var_list.r",
     "varRefreshCmd": "cat(var_dic_list()) "
    }
   },
   "types_to_exclude": [
    "module",
    "function",
    "builtin_function_or_method",
    "instance",
    "_Feature"
   ],
   "window_display": false
  }
 },
 "nbformat": 4,
 "nbformat_minor": 2
}
